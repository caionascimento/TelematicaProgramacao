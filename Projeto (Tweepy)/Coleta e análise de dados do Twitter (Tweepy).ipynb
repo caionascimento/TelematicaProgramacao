{
 "cells": [
  {
   "cell_type": "markdown",
   "metadata": {},
   "source": [
    "---\n",
    "# Coleta e análise de dados do Twitter utilizando a biblioteca Tweepy\n",
    "## Caio Luna\n",
    "\n",
    "## 1. Estudo comparativo entre dois perfis de usuários "
   ]
  },
  {
   "cell_type": "markdown",
   "metadata": {},
   "source": [
    "Com o auxílio da biblioteca Tweepy, é possível coletar amostras de Tweets e Retweets dos usuários, dados de suas contas, informações sobre as *Trends Topics* entre outras informações.\n",
    "\n",
    "Para o uso efetivo da biblioteca é necessário cadastrar sua aplicação na plataforma de desenvolvedor do Twitter (disponível **[Aqui](https://developer.twitter.com/)**) onde é necessário responder alguns questionários sobre como será utilizada e qual a finalidade do uso da API."
   ]
  },
  {
   "cell_type": "markdown",
   "metadata": {},
   "source": [
    "Depois que a aplicação foi efetivamente registrada, é necessário copiar quatro informações, são elas:\n",
    "* *Consumer API key*\n",
    "* *Consumer API secret key*\n",
    "* *Access token*\n",
    "* *Access token secret*\n",
    "\n",
    "Com elas, o código poderá se comunicar com a API do Twitter passando as credenciais da aplicação registrada na plataforma de desenvolvedor."
   ]
  },
  {
   "cell_type": "markdown",
   "metadata": {},
   "source": [
    "Abaixo estão presentes as bibliotecas importadas para a devida funcionalidade do código."
   ]
  },
  {
   "cell_type": "code",
   "execution_count": 1,
   "metadata": {},
   "outputs": [],
   "source": [
    "import tweepy\n",
    "import numpy as np\n",
    "import pandas as pd\n",
    "import matplotlib.pyplot as plt\n",
    "import json\n",
    "import re\n",
    "%matplotlib inline"
   ]
  },
  {
   "cell_type": "markdown",
   "metadata": {},
   "source": [
    "Por segurança, é viável que cada desenvolvedor **utilize suas chaves e tokens de acessos individualmente**, sem a divulgação das mesmas para a comunidade, então para começar a estudar a biblioteca, substitua os caracteres **XXX** abaixos pelas chaves e tokens da sua aplicação que foi registrada na plataforma do Twitter."
   ]
  },
  {
   "cell_type": "code",
   "execution_count": 2,
   "metadata": {},
   "outputs": [],
   "source": [
    "#Autenticações para uso da API\n",
    "consumer_key = 'XXX'\n",
    "consumer_secret = 'XXX'\n",
    "access_token = 'XXX'\n",
    "access_token_secret = 'XXX'\n",
    "auth = tweepy.OAuthHandler(consumer_key, consumer_secret)\n",
    "auth.set_access_token(access_token, access_token_secret)\n",
    "api = tweepy.API(auth)"
   ]
  },
  {
   "cell_type": "markdown",
   "metadata": {},
   "source": [
    "Agora que já importamos as bibliotecas que serão utilizadas e já possuímos acesso a API do Twitter, podemos começar a escrever o código de acordo com nossas necessidades.\n",
    "\n",
    "A função `info_usuario()` que foi criada, é utilizada para resgatar informações do usuário que é passado como parâmetro e guarda as informações em uma lista criada pra cada usuário.\n",
    "Nesta função, é chamado o metodo `get_user()` que retorna um **Objeto de Usuário** com todas as informações dísponiveis, no nosso caso, iremos utilizar algumas dessas informações, são elas:\n",
    "* Nome\n",
    "* Local\n",
    "* Descrição\n",
    "* Total de seguidores\n",
    "* Total de pessoas seguidas pelo perfil\n",
    "* Data de criação da conta\n",
    "* Total de likes dado pelo perfil\n",
    "* Verificação da conta\n",
    "* Total de Tweets e Retweets\n",
    "\n",
    "Para realizar o estudo comparativo entre duas contas, serão utilizadas as atuais contas do Twitter do atual presidente do Brasil, Jair Messias Bolsonaro e do ex-presidente, Luiz Inácio Lula da Silva.\n",
    "\n",
    "**Vale ressaltar que os resultados que serão encontrados abaixo podem sofrer alterações, pois estamos tratando de uma rede social muito volátil, que está em constante modificação por parte dos usuários. Além disto, os dados coletados estão disponíveis nos próprios perfis dos usuários analisados.**"
   ]
  },
  {
   "cell_type": "code",
   "execution_count": 3,
   "metadata": {},
   "outputs": [
    {
     "name": "stdout",
     "output_type": "stream",
     "text": [
      "\n",
      "Nome: Jair M. Bolsonaro \n",
      "Local: Brasília, Brazil \n",
      "Descrição: Capitão do Exército Brasileiro, eleito 38° Presidente da República Federativa do Brasil. 🇧🇷 \n",
      "Quant. Seguidores: 4612043 \n",
      "Quant. Seguidos: 345 \n",
      "Data de Criação: 2010-03-31 23:13:44 \n",
      "Quant. Likes: 2036 \n",
      "Conta Verificada: True \n",
      "Quant. Tweets: 7088\n",
      "\n",
      "Nome: Lula \n",
      "Local:  \n",
      "Descrição: Ex-presidente da República do Brasil (2003-2010). Preso político desde 7 de abril de 2018. \n",
      "Quant. Seguidores: 876015 \n",
      "Quant. Seguidos: 623 \n",
      "Data de Criação: 2014-07-22 21:36:50 \n",
      "Quant. Likes: 2613 \n",
      "Conta Verificada: True \n",
      "Quant. Tweets: 18545\n"
     ]
    }
   ],
   "source": [
    "#Verifica as informações dos usuários \n",
    "def info_usuario(user, lista_usuario):\n",
    "    #Recupera as informações do usuário e adiciona as características solicitadas em uma lista  \n",
    "    usuario = api.get_user(user)\n",
    "    nome = usuario.name\n",
    "    lista_usuario.append(nome)\n",
    "    local = usuario.location\n",
    "    lista_usuario.append(local)\n",
    "    descricao = usuario.description\n",
    "    lista_usuario.append(descricao)\n",
    "    totalseguidores = usuario.followers_count\n",
    "    lista_usuario.append(totalseguidores)\n",
    "    totalseguidos = usuario.friends_count\n",
    "    lista_usuario.append(totalseguidos)\n",
    "    criacao = usuario.created_at\n",
    "    lista_usuario.append(criacao)\n",
    "    totallikes = usuario.favourites_count\n",
    "    lista_usuario.append(totallikes)\n",
    "    verificacao = usuario.verified\n",
    "    lista_usuario.append(verificacao)\n",
    "    totaltweets = usuario.statuses_count\n",
    "    lista_usuario.append(totaltweets)\n",
    "    print('\\nNome:', nome,'\\nLocal:', local,'\\nDescrição:', descricao,'\\nQuant. Seguidores:', totalseguidores,\n",
    "          '\\nQuant. Seguidos:', totalseguidos,'\\nData de Criação:', criacao,'\\nQuant. Likes:', totallikes,\n",
    "          '\\nConta Verificada:', verificacao, '\\nQuant. Tweets:', totaltweets)\n",
    "    \n",
    "#Chama a função com o usuários passando como parâmetro o nome da conta e uma lista para guardar as informações \n",
    "lista_bolsonaro = []\n",
    "info_usuario('jairbolsonaro', lista_bolsonaro)\n",
    "lista_lula = []\n",
    "info_usuario('LulaOficial', lista_lula)"
   ]
  },
  {
   "cell_type": "markdown",
   "metadata": {},
   "source": [
    "---\n",
    "Também podemos verificar quantos e quais são os perfis que os dois usuários seguem e quantos perfis seguem os dois usuários simultaneamente, na função `info_usuario_amizade_comum()` e na `info_usuario_seguidores_comum()` que foram criadas abaixo, passamos como parâmetro os dois usuários para encontrar quais os perfis que tem os dois usuários como seus seguidores e a quantidade de perfis que seguem os dois, respectivamente. \n",
    "\n",
    "Na primeira função `info_usuario_amizade_comum()` com auxílio do método `friends_ids()` que retorna uma **Lista de Inteiros** com os IDs (identificadores únicos de cada perfil) que o usuários seguem, é possível verificar quais os perfis os dois seguem simultaneamente com a utilização de dois laços simples e chamamos novamente a função anteriormente citada `info_usuario()` para uma amostra mais detalhada sobre esses perfis."
   ]
  },
  {
   "cell_type": "code",
   "execution_count": 4,
   "metadata": {},
   "outputs": [
    {
     "name": "stdout",
     "output_type": "stream",
     "text": [
      "Informações sobre os perfis que os dois usuários seguem:\n",
      "\n",
      "Nome: Lenín Moreno \n",
      "Local: Ecuador \n",
      "Descrição: Esposo, padre, abuelo y Presidente Constitucional de la República del Ecuador🇪🇨, con la certeza de que el poder es un ejercicio de humildad. #ElGobiernoDeTodos \n",
      "Quant. Seguidores: 706005 \n",
      "Quant. Seguidos: 38 \n",
      "Data de Criação: 2012-10-29 19:54:52 \n",
      "Quant. Likes: 131 \n",
      "Conta Verificada: True \n",
      "Quant. Tweets: 2736\n",
      "\n",
      "Nome: Câmara dos Deputados \n",
      "Local: Brasília, Brasil \n",
      "Descrição: Perfil oficial da Câmara dos Deputados com notícias sobre votações e debates. \n",
      "Quant. Seguidores: 798466 \n",
      "Quant. Seguidos: 512 \n",
      "Data de Criação: 2009-07-31 18:44:16 \n",
      "Quant. Likes: 1772 \n",
      "Conta Verificada: True \n",
      "Quant. Tweets: 17343\n",
      "\n",
      "Nome: teleSUR TV \n",
      "Local: Caracas \n",
      "Descrição: Con más 40 corresponsales en el mundo, alzamos nuestra voz donde otros medios callan.\n",
      "teleSUR es la señal informativa de América Latina \n",
      "Quant. Seguidores: 1682179 \n",
      "Quant. Seguidos: 287 \n",
      "Data de Criação: 2009-06-05 22:21:49 \n",
      "Quant. Likes: 916 \n",
      "Conta Verificada: True \n",
      "Quant. Tweets: 1166557\n",
      "\n",
      "Nome: G1 \n",
      "Local: Brasil \n",
      "Descrição: O portal de notícias da Globo \n",
      "Quant. Seguidores: 10345448 \n",
      "Quant. Seguidos: 105 \n",
      "Data de Criação: 2007-09-11 04:05:49 \n",
      "Quant. Likes: 6 \n",
      "Conta Verificada: True \n",
      "Quant. Tweets: 655954\n",
      "\n",
      "Nome: Jornal O Globo \n",
      "Local:  \n",
      "Descrição: Acompanhe as notícias do jornal O GLOBO pelas nossas newsletter \n",
      "Quant. Seguidores: 5919275 \n",
      "Quant. Seguidos: 7940 \n",
      "Data de Criação: 2009-07-06 21:36:53 \n",
      "Quant. Likes: 119 \n",
      "Conta Verificada: True \n",
      "Quant. Tweets: 341756\n",
      "\n",
      "Nome: Estadão \n",
      "Local: São Paulo \n",
      "Descrição: A versão on-line do jornal O Estado de S.Paulo. Acompanhe também as atualizações pelo Facebook: http://t.co/HTvjzavEtw \n",
      "Quant. Seguidores: 6380421 \n",
      "Quant. Seguidos: 62346 \n",
      "Data de Criação: 2007-10-08 22:08:22 \n",
      "Quant. Likes: 28 \n",
      "Conta Verificada: True \n",
      "Quant. Tweets: 324119\n",
      "\n",
      "Nome: Correio Braziliense \n",
      "Local: Brasília, Brazil \n",
      "Descrição: Você à frente de tudo \n",
      "Quant. Seguidores: 697090 \n",
      "Quant. Seguidos: 51 \n",
      "Data de Criação: 2009-08-19 22:57:39 \n",
      "Quant. Likes: 264 \n",
      "Conta Verificada: True \n",
      "Quant. Tweets: 320265\n"
     ]
    }
   ],
   "source": [
    "#Verifica os perfis que os dois usuários seguem \"Amigos em Comuns\"\n",
    "print('Informações sobre os perfis que os dois usuários seguem:')\n",
    "def info_usuario_amizade_comum(user1, user2):\n",
    "    lista_amigos = []\n",
    "    amizade_comum = 0\n",
    "    seguidos_user1 = api.friends_ids(user1)\n",
    "    seguidos_user2 = api.friends_ids(user2)\n",
    "    for i in seguidos_user1:\n",
    "        for ii in seguidos_user2:\n",
    "            if i == ii:\n",
    "                amizade_comum += 1\n",
    "                info_usuario(i, lista_amigos)\n",
    "\n",
    "#Chama a função passando os dois usuários como parâmetro para comparação\n",
    "info_usuario_amizade_comum('jairbolsonaro', 'LulaOficial')"
   ]
  },
  {
   "cell_type": "markdown",
   "metadata": {},
   "source": [
    "---\n",
    "Já na segunda função `info_usuario_seguidores_comum()` é utilizada o método `followers_ids()` que também retorna uma **Lista de Inteiros** com os IDs dos seguidores do usuário, também utilizando dois laços simples, encontramos a quantidade de perfis que seguem os dois simultaneamente."
   ]
  },
  {
   "cell_type": "code",
   "execution_count": 5,
   "metadata": {},
   "outputs": [
    {
     "name": "stdout",
     "output_type": "stream",
     "text": [
      "\n",
      "Dos 4612043 perfis que seguem o Jair M. Bolsonaro e dos 876015 perfis que seguem o Lula apenas 89 perfis seguem os dois usuários simultaneamente!\n"
     ]
    }
   ],
   "source": [
    "#Verifica quantos seguidores seguem os dois usuarios simultaneamente\n",
    "def info_usuario_seguidores_comum(user1, user2):\n",
    "    seguidores_comum = 0\n",
    "    seguidores_user1 = api.followers_ids(user1)\n",
    "    seguidores_user2 = api.followers_ids(user2)\n",
    "    for i in seguidores_user1:\n",
    "        for ii in seguidores_user2:\n",
    "            if i == ii:\n",
    "                seguidores_comum += 1\n",
    "    print('\\nDos', lista_bolsonaro[3], 'perfis que seguem o', lista_bolsonaro[0], \n",
    "          'e dos', lista_lula[3], 'perfis que seguem o', lista_lula[0], 'apenas', \n",
    "          seguidores_comum, 'perfis seguem os dois usuários simultaneamente!')\n",
    "#Chama a função passando os dois usuários como parâmetro para comparação\n",
    "info_usuario_seguidores_comum('jairbolsonaro', 'LulaOficial')"
   ]
  },
  {
   "cell_type": "markdown",
   "metadata": {},
   "source": [
    "## 2. Plotagem de Gráficos\n",
    "\n",
    "Com as informações dos dois usuários que resgatamos anteriormente, podemos começar a iniciar a plotagem de alguns gráficos.\n",
    "Nos exemplos abaixo foi criado alguns Data Frame com as informações necessárias para plotar o gráfico.\n",
    "\n",
    "Os valores sobre a quantidade de seguidores foram extraídos pela função `info_usuario()` são passados para uma lista chamada `data` que é utilizada como parâmetro da função `informa_valor()`, ela foi criada para ser passada nas características do grafico `autopct` no método `plot.pie`, com a função `informa_valor()`, é calculada o tamanho de cada fatia da pizza para os dois usuários e retorna o valor dos seguidores que os dois perfis possuem."
   ]
  },
  {
   "cell_type": "code",
   "execution_count": 6,
   "metadata": {},
   "outputs": [
    {
     "data": {
      "text/plain": [
       "<matplotlib.axes._subplots.AxesSubplot at 0x9657f98>"
      ]
     },
     "execution_count": 6,
     "metadata": {},
     "output_type": "execute_result"
    },
    {
     "data": {
      "image/png": "[encoded data removed]",
      "text/plain": [
       "<Figure size 720x360 with 1 Axes>"
      ]
     },
     "metadata": {},
     "output_type": "display_data"
    }
   ],
   "source": [
    "#Criando um DataFrame para uso do gráfico\n",
    "df = pd.DataFrame({'Quant. Seguidores': [lista_bolsonaro[3], lista_lula[3]]})\n",
    "data = [lista_bolsonaro[3], lista_lula[3]]\n",
    "def informa_valor(pct, valores):\n",
    "    absolute = int(pct/100.*np.sum(valores))\n",
    "    return \"{:.1f}%\\n({:d})\".format(pct, absolute)\n",
    "\n",
    "#Plotando o gráfico de pizza\n",
    "df.plot.pie(y='Quant. Seguidores', explode=(0,0.1), labels = ['Bolsonaro', 'Lula'], title='Seguidores', \n",
    "            figsize=(10, 5), colors=['green', 'red'], shadow=True, autopct=lambda pct: informa_valor(pct, data))"
   ]
  },
  {
   "cell_type": "markdown",
   "metadata": {},
   "source": [
    "---\n",
    "O modelo de gráfico gerado foi em forma de pizza, nele podemos observar a quantidade de seguidores que cada usuário tem. É possível observar que há uma grande superioridade na quantidade de seguidores em um dos perfis comparados, onde no total de seguidores dos dois, aproximadamente **84.0%** seguem o atual presidente do Brasil e **16.0%** seguem o ex-presidente.\n",
    "\n",
    "O gráfico a seguir utiliza da mesma ideia do discutido anteriormente, porém aqui iremos analisar a quantidade de tweets e retweets dos dois perfis desde a data da sua criação."
   ]
  },
  {
   "cell_type": "code",
   "execution_count": 7,
   "metadata": {},
   "outputs": [
    {
     "data": {
      "text/plain": [
       "<matplotlib.axes._subplots.AxesSubplot at 0x96169e8>"
      ]
     },
     "execution_count": 7,
     "metadata": {},
     "output_type": "execute_result"
    },
    {
     "data": {
      "image/png": "[encoded data removed]",
      "text/plain": [
       "<Figure size 720x360 with 1 Axes>"
      ]
     },
     "metadata": {},
     "output_type": "display_data"
    }
   ],
   "source": [
    "#Criando um DataFrame para uso do gráfico\n",
    "df = pd.DataFrame({'Quant. Tweets': [lista_bolsonaro[8], lista_lula[8]]})\n",
    "data = [lista_bolsonaro[8], lista_lula[8]]\n",
    "def informa_valor(pct, valores):\n",
    "    absolute = int(pct/100.*np.sum(valores))\n",
    "    return \"{:.1f}%\\n({:d})\".format(pct, absolute)\n",
    "\n",
    "#Plotando o gráfico de pizza\n",
    "df.plot.pie(y='Quant. Tweets', explode=(0,0.1), labels = ['Bolsonaro', 'Lula'], title='Tweets', \n",
    "            figsize=(10, 5), colors=['green', 'red'], shadow=True, autopct=lambda pct: informa_valor(pct, data))"
   ]
  },
  {
   "cell_type": "markdown",
   "metadata": {},
   "source": [
    "---\n",
    "No novo gráfico gerado, é possível ver uma maior “movimentação” no perfil do ex-presidente, onde possui mais de **70.0%** do total de tweets e retweets dos dois perfis. \n",
    "\n",
    "Vale salientar que a data da criação do perfil do atual presidente foi no dia **31/03/2010** e a do ex-presidente foi em **22/07/2014** (segundo resultado da função `infor_usuario()`), ou seja, o perfil do ex-presidente é pouco mais de **quatro anos mais novo** que o perfil do atual presidente, mas mesmo assim, ele utilizou os tweets e retweets em uma quantidade bem maior. Esse fato indica que há uma utilização mais assídua da rede social por parte do perfil do ex-presidente.\n",
    "\n",
    "O próximo gráfico faz uma relação direta na quantidade dos Perfis Seguidos e os Likes dos dois perfis utilizando o metodo `plot.bar()`."
   ]
  },
  {
   "cell_type": "code",
   "execution_count": 8,
   "metadata": {},
   "outputs": [
    {
     "data": {
      "text/plain": [
       "<matplotlib.axes._subplots.AxesSubplot at 0xa745eb8>"
      ]
     },
     "execution_count": 8,
     "metadata": {},
     "output_type": "execute_result"
    },
    {
     "data": {
      "image/png": "[encoded data removed]",
      "text/plain": [
       "<Figure size 720x360 with 1 Axes>"
      ]
     },
     "metadata": {
      "needs_background": "light"
     },
     "output_type": "display_data"
    }
   ],
   "source": [
    "#Criando um DataFrame para uso do gráfico\n",
    "df = pd.DataFrame({'Bolsonaro': [lista_bolsonaro[4], lista_bolsonaro[6]], 'Lula': [lista_lula[4], lista_lula[6]]}, \n",
    "                 index=['Perfis Seguidos', 'Likes'])\n",
    "\n",
    "#Plotando o gráfico de barras\n",
    "df.plot.bar(rot=0, color=['green','red'], grid=True, title='Relação de Perfis Seguidos e Likes', figsize=(10, 5))"
   ]
  },
  {
   "cell_type": "markdown",
   "metadata": {},
   "source": [
    "---\n",
    "Com o gráfico de barras gerado, é possível constatar que a o perfil do ex-presidente segue um quantidade maior de perfis e utiliza mais o botão de *like*, fato este que é mais um indício que o perfil do ex-presidente realiza mais interações na rede social em comparação ao perfil do atual presidente.\n",
    "\n",
    "## 3. Extração de Tweets\n",
    "\n",
    "Para realizar mais algumas análises, também podemos recuperar uma quantidade de Tweets e Retweets dos dois perfis analisados. Para isto, iremos utilizar o método `user_timeline()` que retorna uma **Lista de Objetos** do tipo **Status**.\n",
    "\n",
    "Dentro da função `extrair_tweets()` há um laço para separar apenas as informações que desejamos, no caso, no método `sub()` é separada a *url* do tweet (que no momento não nos interessa) e pega apenas o texto do Tweet ou do Retweet."
   ]
  },
  {
   "cell_type": "code",
   "execution_count": 9,
   "metadata": {},
   "outputs": [],
   "source": [
    "#Verifica e guarda em uma lista os Tweets e os Retweets dos usuários\n",
    "def extrair_tweets(nome_usuario, inclui_retweet=True):\n",
    "    resultados = api.user_timeline(screen_name=nome_usuario, count=200, \n",
    "                                   tweet_mode='extended', include_rts=inclui_retweet)\n",
    "    tweets = []\n",
    "    for s in resultados:\n",
    "        tweet = re.sub(r'http\\S+', '', s.full_text)\n",
    "        tweets.append(tweet.replace('\\n', ' '))\n",
    "    return tweets"
   ]
  },
  {
   "cell_type": "markdown",
   "metadata": {},
   "source": [
    "Ao chamar a função `extrair_tweets()` é necessário passar como parâmetro o nome do usuário que você deseja coletar os Tweets e outro parâmetro *booleano* onde: \n",
    "* *True* indica que a função retornará Tweets e Retweets \n",
    "* *False* indica que a função retornará apenas Tweets\n",
    "\n",
    "O método `user_timeline()` possui uma limitação na recuperação dos tweets de no máximo 200, dísponivel **[Aqui](https://developer.twitter.com/en/docs/tweets/timelines/api-reference/get-statuses-user_timeline.html)** para mais informações sobre.\n",
    "\n",
    "Para visualizar os últimos Tweets dos dois usuários, basta executar as duas caixas de códigos abaixo:"
   ]
  },
  {
   "cell_type": "code",
   "execution_count": null,
   "metadata": {},
   "outputs": [],
   "source": [
    "#Chama a função passando como parâmetro o usuário e se a pesquisa vai incluir os Retweets ou não\n",
    "tweets_bolsonaro = extrair_tweets('jairbolsonaro', True)\n",
    "for i in tweets_bolsonaro:\n",
    "    print('\\n', i)"
   ]
  },
  {
   "cell_type": "code",
   "execution_count": null,
   "metadata": {},
   "outputs": [],
   "source": [
    "#Chama a função passando como parâmetro o usuário e se a pesquisa vai incluir os Retweets ou não\n",
    "tweets_lula = extrair_tweets('LulaOficial', True)\n",
    "for i in tweets_lula:\n",
    "    print('\\n', i)"
   ]
  },
  {
   "cell_type": "markdown",
   "metadata": {},
   "source": [
    "Agora que já temos um meio de extrair os Tweets e Retweets, podemos plotar mais um gráfico de barras para análisar o resultado.\n",
    "\n",
    "Abaixo, chamamos a função `extrair_tweets()` passando como parâmetro o nome do usuário e a opção *booleano False*, o que indica que o retorno a função será apenas dos Tweets feitos pelo próprio usuário.\n",
    "\n",
    "Já para calcular a quantidade de Retweets, basta fazer 200 (número máximo disponível para recuperação via `user_timeline()`) e subtrair a quantidade de Tweets feita pelo usuário."
   ]
  },
  {
   "cell_type": "code",
   "execution_count": 12,
   "metadata": {
    "scrolled": false
   },
   "outputs": [
    {
     "data": {
      "text/plain": [
       "<matplotlib.axes._subplots.AxesSubplot at 0xa7c1828>"
      ]
     },
     "execution_count": 12,
     "metadata": {},
     "output_type": "execute_result"
    },
    {
     "data": {
      "image/png": "[encoded data removed]",
      "text/plain": [
       "<Figure size 720x360 with 1 Axes>"
      ]
     },
     "metadata": {
      "needs_background": "light"
     },
     "output_type": "display_data"
    }
   ],
   "source": [
    "#Verifica quantos Tweets são extraidos\n",
    "tweet_bolsonaro = len(extrair_tweets('jairbolsonaro', False))\n",
    "tweet_lula = len(extrair_tweets('LulaOficial', False))\n",
    "\n",
    "#Criando um DataFrame para uso do gráfico\n",
    "df = pd.DataFrame({'Tweets': [tweet_bolsonaro, tweet_lula], 'Retweets': [200-tweet_bolsonaro, 200-tweet_lula]}, \n",
    "                 index=['Bolsonaro', 'Lula'])\n",
    "\n",
    "#Plotando o gráfico de barras\n",
    "df.plot.bar(rot=0, stacked=True, grid=True, title='Relação de Tweets e Retweets', figsize=(10, 5))"
   ]
  },
  {
   "cell_type": "markdown",
   "metadata": {},
   "source": [
    "---\n",
    "No gráfico mostrado acima, é possível notar mais uma diferença grande entre os dois perfis, com a extração dos últimos 200 Tweets e Retweets, é possível observar que o perfil do atual presidente utiliza bem menos da opção de Retweet, enquanto ao perfil do ex-presidente que tem o uso contrario.\n",
    "\n",
    "## 4. Filtrar termos em Tweets e Retweets\n",
    "\n",
    "Agora já podemos procurar por termos/palavras específicas nos Tweets que foram extraídos anteriormente, abaixo na função `filtrar_tweets_termos()` é possível utilizar de uma lista de palavras para serem pesquisadas nos tweets.\n",
    "\n",
    "A função apresenta três parâmetros, são eles:\n",
    "* `lista_tweets_pesquisa` que é onde os Tweets extraídos foram armazenados\n",
    "* `termo_pesquisa` que é a lista de palavras que seja pesquisada\n",
    "* `quant_termos` que é uma lista para guarda quantas vezes determinada palavra foi encontrada\n",
    "\n",
    "Inicialmente preenchemos a quantidade de vezes que os termos são encontrados, ou seja, iniciam com 0, e logo em seguida é feita a busca de cada termo informado na lista nos Tweets e Retweets recuperados, utilizando dois laços para realizar essa pesquisa. O método `search()` é utilizado para pesquisar o termo de forma *case-sensitive*."
   ]
  },
  {
   "cell_type": "code",
   "execution_count": 13,
   "metadata": {},
   "outputs": [],
   "source": [
    "#Verifica a quantidade de Tweets e Retweets dos usuários onde menciona um termo específico\n",
    "def filtra_tweets_termos(lista_tweets_pesquisa, termo_pesquisa, quant_termos):\n",
    "    for i in range(len(termo_pesquisa)):\n",
    "        quant_termos.append(0)\n",
    "    ii = 0\n",
    "    for termo in termo_pesquisa:\n",
    "        termos_encontrador = 0\n",
    "        for tweet_user in lista_tweets_pesquisa:\n",
    "            if re.search(termo, tweet_user, re.IGNORECASE):\n",
    "                termos_encontrador += 1\n",
    "            quant_termos[ii] = termos_encontrador\n",
    "        ii += 1\n",
    "        \n",
    "#Define quais os termos que serão pesquisados\n",
    "termo_pesquisa = ['bolsonaro', 'lula', 'pt', 'psl', 'previdência', 'arma']"
   ]
  },
  {
   "cell_type": "markdown",
   "metadata": {},
   "source": [
    "Abaixo efetuamos a extração dos tweets recentes dos usuários, declaramos uma lista vazia para guardar a quantidade de vezes que o termo é encontrado nos Tweets e Retweets de cada usuário e chamamos a função `filtra_tweets_termos()`."
   ]
  },
  {
   "cell_type": "code",
   "execution_count": 14,
   "metadata": {},
   "outputs": [],
   "source": [
    "#Extraindo Tweets e Retweets realizando a pesquisa dos termos\n",
    "tweets_bolsonaro = extrair_tweets('jairbolsonaro', True)\n",
    "quant_termos_bolsonaro = []\n",
    "filtra_tweets_termos(tweets_bolsonaro, termo_pesquisa, quant_termos_bolsonaro)"
   ]
  },
  {
   "cell_type": "code",
   "execution_count": 15,
   "metadata": {},
   "outputs": [],
   "source": [
    "#Extraindo Tweets e Retweets realizando a pesquisa dos termos\n",
    "tweets_lula = extrair_tweets('LulaOficial', True)\n",
    "quant_termos_lula = []\n",
    "filtra_tweets_termos(tweets_lula, termo_pesquisa, quant_termos_lula)"
   ]
  },
  {
   "cell_type": "markdown",
   "metadata": {},
   "source": [
    "Logo após será criado um Data Frame contendo as informações que foram retornadas da função."
   ]
  },
  {
   "cell_type": "code",
   "execution_count": 16,
   "metadata": {},
   "outputs": [
    {
     "data": {
      "text/html": [
       "<div>\n",
       "<style scoped>\n",
       "    .dataframe tbody tr th:only-of-type {\n",
       "        vertical-align: middle;\n",
       "    }\n",
       "\n",
       "    .dataframe tbody tr th {\n",
       "        vertical-align: top;\n",
       "    }\n",
       "\n",
       "    .dataframe thead th {\n",
       "        text-align: right;\n",
       "    }\n",
       "</style>\n",
       "<table border=\"1\" class=\"dataframe\">\n",
       "  <thead>\n",
       "    <tr style=\"text-align: right;\">\n",
       "      <th></th>\n",
       "      <th>Bolsonaro</th>\n",
       "      <th>Lula</th>\n",
       "    </tr>\n",
       "  </thead>\n",
       "  <tbody>\n",
       "    <tr>\n",
       "      <th>bolsonaro</th>\n",
       "      <td>16</td>\n",
       "      <td>5</td>\n",
       "    </tr>\n",
       "    <tr>\n",
       "      <th>lula</th>\n",
       "      <td>1</td>\n",
       "      <td>133</td>\n",
       "    </tr>\n",
       "    <tr>\n",
       "      <th>pt</th>\n",
       "      <td>1</td>\n",
       "      <td>23</td>\n",
       "    </tr>\n",
       "    <tr>\n",
       "      <th>psl</th>\n",
       "      <td>0</td>\n",
       "      <td>0</td>\n",
       "    </tr>\n",
       "    <tr>\n",
       "      <th>previdência</th>\n",
       "      <td>2</td>\n",
       "      <td>0</td>\n",
       "    </tr>\n",
       "    <tr>\n",
       "      <th>arma</th>\n",
       "      <td>5</td>\n",
       "      <td>3</td>\n",
       "    </tr>\n",
       "  </tbody>\n",
       "</table>\n",
       "</div>"
      ],
      "text/plain": [
       "             Bolsonaro  Lula\n",
       "bolsonaro           16     5\n",
       "lula                 1   133\n",
       "pt                   1    23\n",
       "psl                  0     0\n",
       "previdência          2     0\n",
       "arma                 5     3"
      ]
     },
     "execution_count": 16,
     "metadata": {},
     "output_type": "execute_result"
    }
   ],
   "source": [
    "#Criando um DataFrame\n",
    "df = pd.DataFrame({'Bolsonaro': quant_termos_bolsonaro, 'Lula': quant_termos_lula}, \n",
    "                 index=termo_pesquisa)\n",
    "df"
   ]
  },
  {
   "cell_type": "markdown",
   "metadata": {},
   "source": [
    "---\n",
    "Com o Data Frame criado, podemos assim realizar a plotagem do gráfico para visualizarmos graficamente a quantidade de vezes que determinado termo foi encontrados nos tweets dos dois perfis."
   ]
  },
  {
   "cell_type": "code",
   "execution_count": 17,
   "metadata": {
    "scrolled": false
   },
   "outputs": [
    {
     "data": {
      "text/plain": [
       "<matplotlib.axes._subplots.AxesSubplot at 0xa865ac8>"
      ]
     },
     "execution_count": 17,
     "metadata": {},
     "output_type": "execute_result"
    },
    {
     "data": {
      "image/png": "[encoded data removed]",
      "text/plain": [
       "<Figure size 720x360 with 1 Axes>"
      ]
     },
     "metadata": {
      "needs_background": "light"
     },
     "output_type": "display_data"
    }
   ],
   "source": [
    "#Plotando o gráfico de barras\n",
    "df.plot.bar(rot=0, color=['green','red'], grid=True, title='Relação dos termos pesquisados', figsize=(10, 5))"
   ]
  },
  {
   "cell_type": "markdown",
   "metadata": {},
   "source": [
    "---\n",
    "## 5. Trends Topics\n",
    "\n",
    "O nascimento das *Trends Topcis* tem basta interação com o momento atual da região/local de onde se está. Por exemplo, durante os jogos da seleção brasileira feminina e masculina, quando os times estão jogando é normal que nome de jogadores que tenham se destacado no jogo apareça nas *Trends Topics* do Twitter.\n",
    "\n",
    "Diante disto, a análise sobre os tópicos de tendência são mais difíceis, devido sua **alta taxa de volatilidade**, porem é possível verificar quais as *Trends Topics* do momento.\n",
    "\n",
    "Primeiramente informamos o identificador da região no qual desejamos verificar os tópicos de tendência **(ID do Brasil é 23424768)** e com o método `trends_place()` é retornado um **Objeto Json** contendo algumas informações sobre os tópicos, como desejamos apenas verificar quais são os top 10 tópicos de tendência, carregamos o resultado do método dentro de uma variável e realizamos a pesquisa das *Trends Topics* e utilizamos um laço para localizar os 10 primeiros tópicos de tendência, e por fim, são impressas na tela."
   ]
  },
  {
   "cell_type": "code",
   "execution_count": 18,
   "metadata": {
    "scrolled": true
   },
   "outputs": [],
   "source": [
    "#Informa o ID do local da pesquisa e captura as tendências do local\n",
    "codigo_regiao = 23424768 #Código do Brasil\n",
    "#Coleta as Trends Topics da região solicitada \n",
    "def localiza_trends(codigo_regiao):\n",
    "    top_trends = api.trends_place(codigo_regiao)\n",
    "    trends = json.loads(json.dumps(top_trends, indent=1))\n",
    "    max_topic = 0\n",
    "    top10_trend = []\n",
    "    #Extrai as Trends\n",
    "    for trend in trends[0][\"trends\"]:\n",
    "        top10_trend.append(trend[\"name\"])\n",
    "        max_topic += 1\n",
    "        if max_topic == 10:\n",
    "            break\n",
    "    #Imprime os trends topics\n",
    "    for i in top10_trend:\n",
    "        print(i)"
   ]
  },
  {
   "cell_type": "code",
   "execution_count": 19,
   "metadata": {},
   "outputs": [
    {
     "name": "stdout",
     "output_type": "stream",
     "text": [
      "WhatsApp\n",
      "Mark Zuckerberg\n",
      "Enem\n",
      "#StrangerThings\n",
      "Conmebol\n",
      "Instagram e Facebook\n",
      "#EntregaOCelularDallagnol\n",
      "#NEDSWE\n",
      "João Félix\n",
      "Halle Bailey\n"
     ]
    }
   ],
   "source": [
    "#Chama a função para localizar as Trends\n",
    "localiza_trends(codigo_regiao)"
   ]
  },
  {
   "attachments": {},
   "cell_type": "markdown",
   "metadata": {},
   "source": [
    "---\n",
    "No caso abaixo é utilizado o método `trends_closest()` que retorna um **Objeto Json**, nele é informado dados sobre a localidade mais próxima no qual o Twitter ter registros de Trends Topics.\n",
    "\n",
    "Basta passar como parâmetros do método a latitude e longitude de local, uma das formas mais simples de se obter essa informação é utilizando o [Google Maps](https://www.google.com/maps), logo depois da *url* é possível encontrar essa númeração."
   ]
  },
  {
   "cell_type": "code",
   "execution_count": 20,
   "metadata": {},
   "outputs": [
    {
     "name": "stdout",
     "output_type": "stream",
     "text": [
      "A localidade mais próxima que possui tópicos de tendência é Fortaleza que tem o ID: 455830\n"
     ]
    }
   ],
   "source": [
    "#Localiza qual o local mais próximo de topicos de tendência de acordo com a localização atual\n",
    "teste = api.trends_closest(-7.2419179,-35.8825136)\n",
    "localidade = list(teste[0].values())\n",
    "print('A localidade mais próxima que possui tópicos de tendência é', \n",
    "      localidade[0], 'que tem o ID:', localidade[5])"
   ]
  },
  {
   "cell_type": "markdown",
   "metadata": {},
   "source": [
    "---\n",
    "Agora que já possuímos o ID da região mais próxima a nós, podemos verificar se as mesmas *Trends Topics* do Brasil são as mesmas da região de Fortaleza, como foi dito anteriormente, as *Trends Topics* tem uma forte relação com acontecimentos de uma determinada região, seja um fato histórico, uma tragédia, uma novela ou qualquer outro motivo que seja marcante ou de grande importância para a maioria dos usuários da rede social. \n",
    "\n",
    "Basta chamar novamente a função `localiza_trends()` e passar como parâmetro o ID que nos foi retornado (neste caso o de Fortaleza de ID 455830)."
   ]
  },
  {
   "cell_type": "code",
   "execution_count": 21,
   "metadata": {},
   "outputs": [
    {
     "name": "stdout",
     "output_type": "stream",
     "text": [
      "Argentina\n",
      "Moro\n",
      "WhatsApp\n",
      "Mark Zuckerberg\n",
      "Enem\n",
      "#StrangerThings\n",
      "Conmebol\n",
      "Instagram e Facebook\n",
      "#EntregaOCelularDallagnol\n",
      "#NEDSWE\n"
     ]
    }
   ],
   "source": [
    "#Chama a função para localizar as Trends\n",
    "localiza_trends(455830)"
   ]
  },
  {
   "cell_type": "markdown",
   "metadata": {},
   "source": [
    "---\n",
    "## 6. Conclusões \n",
    "\n",
    "Com a elaboração deste projeto, aprendemos a utilizar a biblioteca **Tweepy** para realizar algumas operações essenciais para o objetivo específico do trabalho, como a coleta de Tweets de um perfil específico, a coleta de informações sobre um usuário específico, a forma de organização dos dados do Twitter, as divisões das trends topics por região, a pesquisa de determinados termos dentro de tweets entre outras funcionalidades.\n",
    "\n",
    "Com a elaboração do projeto acima, foi possível investigar melhor as bibliotecas **Tweepy**, **Re**, **Json**, **Matplotlib**, **Numpy** e **Pandas** que já são bastante conhecidas e vale a pena aprofundar os conhecimentos nelas, pois a possibilidade de utilizarmos em novos projetos é muito grande.\n",
    "\n",
    "Utilizamos da possibilidades de fazer um estudo comparativo entre dois perfis mas acreditamos que o objetivo geral do trabalho foi alcançado, pois tivemos a ideia de dar uma ampla visão das possibilidade do que se pode fazer com a API do Twitter em suas principais funcionalidades (possibilidades essas que estão fragmentadas por tutoriais na internet, o que dificulta o estudo de quem se interessa no desenvolvimento de pesquisas na área).\n",
    "\n",
    "## 7. Referências\n",
    "\n",
    "**Documentações**\n",
    "\n",
    "* [Tweepy](http://docs.tweepy.org/en/latest/)<br>\n",
    "* [Numpy](https://docs.scipy.org/doc/numpy/dev/)<br>\n",
    "* [Pandas](https://pandas.pydata.org/pandas-docs/stable/)<br>\n",
    "* [Matplotlib](https://matplotlib.org/3.1.0/contents.html)<br>\n",
    "* [Json](https://docs.python.org/3/library/json.html)<br>\n",
    "* [Re](https://docs.python.org/3/library/re.html)<br>\n",
    "* [Developer Twitter](https://developer.twitter.com/en.html)<br>"
   ]
  },
  {
   "cell_type": "code",
   "execution_count": null,
   "metadata": {},
   "outputs": [],
   "source": []
  }
 ],
 "metadata": {
  "kernelspec": {
   "display_name": "Python 3",
   "language": "python",
   "name": "python3"
  },
  "language_info": {
   "codemirror_mode": {
    "name": "ipython",
    "version": 3
   },
   "file_extension": ".py",
   "mimetype": "text/x-python",
   "name": "python",
   "nbconvert_exporter": "python",
   "pygments_lexer": "ipython3",
   "version": "3.7.1"
  }
 },
 "nbformat": 4,
 "nbformat_minor": 2
}
